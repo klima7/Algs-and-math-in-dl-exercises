{
 "cells": [
  {
   "cell_type": "markdown",
   "id": "9ed56307",
   "metadata": {},
   "source": [
    "# Algorytmika i matematyka uczenia maszynowego \n",
    "## Laboratorium 2\n",
    "\n",
    "Do wykonania zadań proszę zapoznać się z metodami, właściwościami, oraz funkcjami:\n",
    "`__repr__`, `__str__`, `__add__`, `__sub__`, `__eq__`, `__lt__`, `__gt__`, `__le__`, `__ge__`, `__ne__`, `__hash__`, `__truediv__`, `__mul__`, `__class__`, `__name__`, `id`.\n",
    "\n",
    "Operatory: https://docs.python.org/3/library/operator.html\n",
    "\n",
    "\n",
    "**UWAGA**: W ninejszym laboratorium proszę nie korzystać z zewnętrzych modułów/bibliotek (poza biblioteką _matplotlib_).\n",
    "\n",
    "**UWAGA 2**: Obsługę błędów należy zrealizować w postaci wyjątków.\n",
    "\n",
    "### Zadanie 1\n",
    "\n",
    "Napisz klasę `Vector` udostępniającą funkcjonalność:\n",
    "- reprezentuje wektor dowolnej długości,\n",
    "- obiekt inicjowany listą (np. `Vector([1, 2, 3])`,\n",
    "- posiada funkcję zwracającą moduł wektora,\n",
    "- umożliwia dodawanie (`+`) i odejmowanie (`-`) wektorów. Dodaj obsługę błędów (różna długość (liczba elementów) wektora),\n",
    "- możliwość wyświetlenia wektora jako listy za pomocą funkcji `print(v)` (metoda `__str__`),\n",
    "- uruchomienie komórki zawierającej jedynie nazwę zmiennej (typu `Vector`) spowoduje wyświetlenie nazwy typu `Vector`, adresu zmiennej w pamięci (funkcja `id`) oraz jej zawartości, np. `<Vector([1, 2, 3]) at 140185630442880>` (metoda `__repr__`)"
   ]
  },
  {
   "cell_type": "code",
   "execution_count": 18,
   "id": "ac82ae76",
   "metadata": {},
   "outputs": [],
   "source": [
    "import math\n",
    "import matplotlib.pyplot as plt\n",
    "\n",
    "\n",
    "class IncompatibileVectorsSizes(Exception):\n",
    "    pass\n",
    "\n",
    "\n",
    "class InvalidVectorDimensionException(Exception):\n",
    "    pass\n",
    "\n",
    "\n",
    "class Vector:\n",
    "    \n",
    "    def __init__(self, data):\n",
    "        self.data = tuple(data)\n",
    "        \n",
    "    def __len__(self):\n",
    "        return len(self.data)\n",
    "    \n",
    "    def __getitem__(self, indices):\n",
    "        return self.data[indices]\n",
    "    \n",
    "    def __neg__(self):\n",
    "        return Vector([-e for e in self])\n",
    "    \n",
    "    def __add__(self, other):\n",
    "        self.__check_size(other)\n",
    "        return Vector([e1+e2 for e1, e2 in zip(self, other)])\n",
    "    \n",
    "    def __iter__(self):\n",
    "        return iter(self.data)\n",
    "    \n",
    "    def __sub__(self, other):\n",
    "        return self + (-other)\n",
    "    \n",
    "    def __str__(self):\n",
    "        return str(self.data)\n",
    "    \n",
    "    def __repr__(self):\n",
    "        return f'<{self.__class__.__name__}({str(self)}) at {id(self)}>'\n",
    "    \n",
    "    def module(self):\n",
    "        return math.sqrt(sum([e**2 for e in self]))\n",
    "    \n",
    "    def __check_size(self, other):\n",
    "        if len(self) != len(other):\n",
    "            raise IncompatibileVectorsSizes()\n",
    "    \n",
    "    def __lt__(self, other):\n",
    "        return self.__compare(other, lambda a, b: a < b)\n",
    "    \n",
    "    def __le__(self, other):\n",
    "        return self.__compare(other, lambda a, b: a <= b)\n",
    "    \n",
    "    def __gt__(self, other):\n",
    "        return self.__compare(other, lambda a, b: a > b)\n",
    "    \n",
    "    def __ge__(self, other):\n",
    "        return self.__compare(other, lambda a, b: a >= b)\n",
    "    \n",
    "    def __eq__(self, other):\n",
    "        return self.__compare(other, lambda a, b: a == b)\n",
    "    \n",
    "    def __ne__(self, other):\n",
    "        return self.__compare(other, lambda a, b: a != b)\n",
    "    \n",
    "    def __compare(self, other, fun):\n",
    "        self.__check_size(other)\n",
    "        return Vector([fun(a, b) for a, b in zip(self, other)])\n",
    "    \n",
    "    def plot(self, ax=None):\n",
    "        if len(self) != 2:\n",
    "            print('Error: Plotting only 2D Vectors is possible')\n",
    "            return\n",
    "            \n",
    "        if ax is None:\n",
    "            _, ax = plt.subplots()\n",
    "\n",
    "        ax.arrow(0, 0, self[0], self[1], length_includes_head=True, head_width=0.2)\n",
    "        ax.grid()\n",
    "        \n",
    "    def __hash__(self):\n",
    "        return hash(self.data)\n",
    "    \n",
    "    def __truediv__(self, other):\n",
    "        if other == 0:\n",
    "            raise ZeroDivisionError('Unable to divide by zero')\n",
    "\n",
    "        return Vector([e / other for e in self])\n",
    "    \n",
    "    def __mul__(self, other):\n",
    "        return Vector([e * other for e in self])"
   ]
  },
  {
   "cell_type": "code",
   "execution_count": 13,
   "id": "5a907539-8c47-4255-a8f3-a5bcfafc3d5e",
   "metadata": {},
   "outputs": [
    {
     "name": "stdout",
     "output_type": "stream",
     "text": [
      "str(a): (7, 5, 3)\n",
      "str(b): (3, 10, 1)\n",
      "repr(a) <Vector((7, 5, 3)) at 2072417281408>\n",
      "repr(b) <Vector((3, 10, 1)) at 2072417481872>\n",
      "len(a): 3\n",
      "len(b): 3\n",
      "a.module(): 9.1104335791443\n",
      "b.module(): 10.488088481701515\n",
      "a+b: (10, 15, 4)\n",
      "a-b: (4, -5, 2)\n",
      "a+c: Incompatibile sizes\n"
     ]
    }
   ],
   "source": [
    "a = Vector([7, 5, 3])\n",
    "b = Vector([3, 10, 1])\n",
    "\n",
    "print('str(a):', str(a))\n",
    "print('str(b):', str(b))\n",
    "print('repr(a)', repr(a))\n",
    "print('repr(b)', repr(b))\n",
    "print('len(a):', len(a))\n",
    "print('len(b):', len(b))\n",
    "print('a.module():', a.module())\n",
    "print('b.module():', b.module())\n",
    "print('a+b:', a+b)\n",
    "print('a-b:', a-b)\n",
    "\n",
    "try:\n",
    "    c = Vector([1, 2])\n",
    "    a + c\n",
    "except IncompatibileVectorsSizes:\n",
    "    print('a+c: Incompatibile sizes')"
   ]
  },
  {
   "cell_type": "markdown",
   "id": "87da7375",
   "metadata": {},
   "source": [
    "### Zadanie 2\n",
    "\n",
    "Do wcześniej zaimplementowanej klasy dopisz funkcje pozwalające na porównanie wektorów (ich modułów) za pomocą operatorów: `==`, `>=`, `<=`, `>`, `<`, `!=`. Porównanie ma zostać wykonane na poziomie elementów wektorów (_element wise_), poniżej przykład:\n",
    "\n",
    "```ipython\n",
    " In [1]: a = Vector([1, 2, 3]) \\\n",
    "    ...: b = Vector([3, 2, 1]) \\\n",
    "    ...: a <= b\n",
    "Out [1]: <Vector([True, True, False]) at 140185575662832>\n",
    "```"
   ]
  },
  {
   "cell_type": "code",
   "execution_count": 15,
   "id": "3b99972a",
   "metadata": {},
   "outputs": [
    {
     "name": "stdout",
     "output_type": "stream",
     "text": [
      "(False, True, False)\n",
      "(True, False, False)\n",
      "(False, False, True)\n",
      "(True, True, False)\n",
      "(False, True, True)\n",
      "(True, False, True)\n"
     ]
    }
   ],
   "source": [
    "a = Vector([7, 3, 5])\n",
    "b = Vector([3, 7, 5])\n",
    "\n",
    "print(a < b)\n",
    "print(a > b)\n",
    "print(a == b)\n",
    "print(a != b)\n",
    "print(a <= b)\n",
    "print(a >= b)"
   ]
  },
  {
   "cell_type": "markdown",
   "id": "d8e9a446",
   "metadata": {},
   "source": [
    "### Zadanie 3\n",
    "\n",
    "Do klasy `Vector` dopisz funkcję umożliwiającą wyświetlenie wektora na wykresie (zaimplementuj wyświetlanie za pomocą biblioteki `matplotlib`. \n",
    "\n",
    "> **UWAGA**: Funkcja powinna działać tylko dla wektora o dwóch wymiarach (dwuelementowa lista) - wykres 2D i wyświetlać komunikat jeżeli wymiar jest inny.\n",
    "\n",
    "> Podpowiedź: możesz wykorzystać funkcję [matplotlib.pyplot.arrow](https://matplotlib.org/3.5.1/api/_as_gen/matplotlib.pyplot.arrow.html)"
   ]
  },
  {
   "cell_type": "code",
   "execution_count": 20,
   "id": "c9f9de7b",
   "metadata": {},
   "outputs": [
    {
     "data": {
      "image/png": "[encoded data removed]",
      "text/plain": [
       "<Figure size 432x288 with 1 Axes>"
      ]
     },
     "metadata": {
      "needs_background": "light"
     },
     "output_type": "display_data"
    }
   ],
   "source": [
    "a = Vector([3, 7])\n",
    "a.plot()"
   ]
  },
  {
   "cell_type": "code",
   "execution_count": 19,
   "id": "41440ed6-7d22-486b-9be5-303ca855d8f3",
   "metadata": {},
   "outputs": [
    {
     "name": "stdout",
     "output_type": "stream",
     "text": [
      "Error: Plotting only 2D Vectors is possible\n"
     ]
    }
   ],
   "source": [
    "a = Vector([1, 2, 3])\n",
    "a.plot()"
   ]
  },
  {
   "cell_type": "markdown",
   "id": "ebc3c411",
   "metadata": {},
   "source": [
    "### Zadanie 4\n",
    "\n",
    "Dodaj możliwość zastosowania obiektu klasy `Vector` jako klucza w słowniku. Np.:\n",
    "\n",
    "```python\n",
    "d = {\n",
    "    Vector([1, 2, 3]): 'Wektor 1',\n",
    "    Vector([2, 2, 3]): 'Wektor 2'\n",
    "}\n",
    "d[Vector([2, 2, 3])]\n",
    "```"
   ]
  },
  {
   "cell_type": "code",
   "execution_count": 21,
   "id": "d1db2d39",
   "metadata": {},
   "outputs": [
    {
     "data": {
      "text/plain": [
       "'Wektor 2'"
      ]
     },
     "execution_count": 21,
     "metadata": {},
     "output_type": "execute_result"
    }
   ],
   "source": [
    "d = {\n",
    "    Vector([1, 2, 3]): 'Wektor 1',\n",
    "    Vector([2, 2, 3]): 'Wektor 2'\n",
    "}\n",
    "d[Vector([2, 2, 3])]"
   ]
  },
  {
   "cell_type": "markdown",
   "id": "8aec816a",
   "metadata": {},
   "source": [
    "### Zadanie 5\n",
    "\n",
    "Dodaj funkcjonalność:\n",
    "- dzielenia przez skalar (np. `Vector([2, 4]) / 2`),\n",
    "- mnożenia przez skalar (np. `Vector([2, 4]) * 2`).\n",
    "\n",
    "> Podpowiedź: Pamiętaj o obsłudze błędów."
   ]
  },
  {
   "cell_type": "code",
   "execution_count": 22,
   "id": "2bb3d9bb",
   "metadata": {},
   "outputs": [
    {
     "data": {
      "text/plain": [
       "<Vector((1.0, 2.0)) at 2072445621200>"
      ]
     },
     "execution_count": 22,
     "metadata": {},
     "output_type": "execute_result"
    }
   ],
   "source": [
    "Vector([2, 4]) / 2"
   ]
  },
  {
   "cell_type": "code",
   "execution_count": 23,
   "id": "f4de14a5-2d82-4173-82b2-faca7dd80469",
   "metadata": {},
   "outputs": [
    {
     "data": {
      "text/plain": [
       "<Vector((4, 8)) at 2072417423264>"
      ]
     },
     "execution_count": 23,
     "metadata": {},
     "output_type": "execute_result"
    }
   ],
   "source": [
    "Vector([2, 4]) * 2"
   ]
  },
  {
   "cell_type": "code",
   "execution_count": 24,
   "id": "7351341c-6f7a-43e1-8de6-6c4d35f3ca4d",
   "metadata": {},
   "outputs": [
    {
     "name": "stdout",
     "output_type": "stream",
     "text": [
      "Error: Unable to divide by zero\n"
     ]
    }
   ],
   "source": [
    "try:\n",
    "    Vector([2, 3]) / 0\n",
    "except ZeroDivisionError:\n",
    "    print('Error: Unable to divide by zero')"
   ]
  }
 ],
 "metadata": {
  "author": {
   "email": "robert.susik@p.lodz.pl",
   "name": "Robert Susik"
  },
  "kernelspec": {
   "display_name": "Python 3 (ipykernel)",
   "language": "python",
   "name": "python3"
  },
  "language_info": {
   "codemirror_mode": {
    "name": "ipython",
    "version": 3
   },
   "file_extension": ".py",
   "mimetype": "text/x-python",
   "name": "python",
   "nbconvert_exporter": "python",
   "pygments_lexer": "ipython3",
   "version": "3.9.7"
  },
  "toc": {
   "base_numbering": 1,
   "nav_menu": {},
   "number_sections": true,
   "sideBar": true,
   "skip_h1_title": false,
   "title_cell": "Table of Contents",
   "title_sidebar": "Contents",
   "toc_cell": false,
   "toc_position": {},
   "toc_section_display": true,
   "toc_window_display": false
  }
 },
 "nbformat": 4,
 "nbformat_minor": 5
}
