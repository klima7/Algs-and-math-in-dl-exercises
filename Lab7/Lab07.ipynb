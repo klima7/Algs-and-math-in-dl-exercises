{
 "cells": [
  {
   "cell_type": "markdown",
   "id": "59b5dc28",
   "metadata": {},
   "source": [
    "# Algorytmika i matematyka uczenia maszynowego \n",
    "## Laboratorium 7\n"
   ]
  },
  {
   "cell_type": "markdown",
   "id": "01f97ff3",
   "metadata": {
    "tags": []
   },
   "source": [
    "### Zadanie 1\n",
    "\n",
    "Z miasta A do miasta B kierowca przejechał ze średnią szybkością 60 km/h. Z powrotem jechał szybciej, ze średnią 80 km/h. Jaka była jego średnia szybkość na całej trasie? \n",
    "\n",
    "**Uwaga:** nie używaj gotowych implementacji.\n",
    "\n",
    "> Wskazówka: średnia harmoniczna."
   ]
  },
  {
   "cell_type": "code",
   "execution_count": 1,
   "id": "fe1f58d6-aeb1-4f4d-8290-1abc2e8959b1",
   "metadata": {},
   "outputs": [],
   "source": [
    "import numpy as np"
   ]
  },
  {
   "cell_type": "code",
   "execution_count": 2,
   "id": "b7313777",
   "metadata": {},
   "outputs": [
    {
     "name": "stdout",
     "output_type": "stream",
     "text": [
      "68.57142857142857\n"
     ]
    }
   ],
   "source": [
    "v1 = 60\n",
    "v2 = 80\n",
    "v = 2 / (1/v1 + 1/v2)\n",
    "print(v)"
   ]
  },
  {
   "cell_type": "markdown",
   "id": "ca4e7af2",
   "metadata": {},
   "source": [
    "### Zadanie 2\n",
    "\n",
    "Wyobraźmy sobie miasto o liczbie 700 tys. mieszkańców. W mieście pojawiła się choroba i wiemy, że jedna osoba na 1000 zachorowała. Nie wiemy, które to dokładnie osoby, ale jest dostępny test, którego skuteczność wynosi 99%. Teraz wcielamy się w pacjenta, który przeprowadził test, a wynik testu jest pozytywny. Chcemy dowiedzieć się, jakie jest prawdopodobieństwo, że zachorowaliśmy.\n",
    "\n",
    "#### A)\n",
    "\n",
    "Przeprowadzić symulację komputerową: (Nie trzeba się ściśle trzymać wskazówek)\n",
    "\n",
    "- Generujemy listę wielkości 700 tys.\n",
    "- Losowo wybieramy 700 tys./1000 (bo jedna na 1000 osob zachorowała) osób i zaznaczamy je jako chore.\n",
    "- Wybieramy losowo po 1% osob chorych i zdrowych, a następnie zaznaczamy ich diagnoze na nieprawidlowa (bo skutecznosc (rozumień jako czułość) testu wynosi 99%).\n",
    "- Oblicz jakie jest prawdopodobienstwo ze osoba z pozytywnym wynikiem testu jest faktycznie chora (`liczba osób chorych z wynikiem pozytywnym` / `liczba wszystkich osob z wynikiem pozytywnym`).\n",
    "\n"
   ]
  },
  {
   "cell_type": "code",
   "execution_count": 3,
   "id": "0fea1c5d",
   "metadata": {},
   "outputs": [
    {
     "data": {
      "text/plain": [
       "0.09037711313394019"
      ]
     },
     "execution_count": 3,
     "metadata": {},
     "output_type": "execute_result"
    }
   ],
   "source": [
    "def probability_simulation():\n",
    "    population_count = 700_000\n",
    "    ill_count = round(population_count / 1_000)\n",
    "    false_count = round(population_count / 100)\n",
    "\n",
    "    people = np.zeros((population_count, 2), dtype=np.bool_)\n",
    "    people[:ill_count, :] = 1\n",
    "\n",
    "    np.random.shuffle(people)\n",
    "    people[:false_count, 1] = ~people[:false_count, 1]\n",
    "\n",
    "    true_posistive_count = np.sum(people[:, 0] & people[:, 1])\n",
    "    all_positive_count = np.sum(people[:, 1])\n",
    "    prob = true_posistive_count / all_positive_count\n",
    "    return prob\n",
    "\n",
    "probability_simulation()"
   ]
  },
  {
   "cell_type": "markdown",
   "id": "46aa035b",
   "metadata": {},
   "source": [
    "#### B)\n",
    "\n",
    "Napisać funkcję, która zwróci wynik obliczony ze wzoru Bayesa. Zmierz i porównaj czas obliczeń w zad. A i zad. B\n",
    "\n"
   ]
  },
  {
   "cell_type": "code",
   "execution_count": 259,
   "id": "1119d040",
   "metadata": {},
   "outputs": [
    {
     "data": {
      "text/plain": [
       "0.09016393442622944"
      ]
     },
     "execution_count": 259,
     "metadata": {},
     "output_type": "execute_result"
    }
   ],
   "source": [
    "def probability_formula(sensitivity):\n",
    "    num = 0.001 * sensitivity\n",
    "    denom = 0.999 * (1-sensitivity) + 0.001 * sensitivity\n",
    "    return num / denom\n",
    "\n",
    "probability_formula(0.99)"
   ]
  },
  {
   "cell_type": "code",
   "execution_count": 261,
   "id": "0de40d1a-91da-4ada-98d9-ae7d759775f5",
   "metadata": {},
   "outputs": [
    {
     "name": "stdout",
     "output_type": "stream",
     "text": [
      "Simulation time: 0.5799267292022705 seconds\n",
      "   Formula time: 3.0057430267333983e-07 seconds\n"
     ]
    }
   ],
   "source": [
    "from time import time\n",
    "\n",
    "start = time()\n",
    "for i in range(10000):\n",
    "    probability_formula(0.99)\n",
    "formula_time = (time() - start) / 10000\n",
    "\n",
    "start = time()\n",
    "probability_simulation()\n",
    "simulation_time = time() - start\n",
    "\n",
    "print(f'Simulation time: {simulation_time} seconds')\n",
    "print(f'   Formula time: {formula_time} seconds')"
   ]
  },
  {
   "cell_type": "markdown",
   "id": "2850f724",
   "metadata": {},
   "source": [
    "#### C)\n",
    "\n",
    "Wyświetl wykres, gdzie na osi X znajduje się _czułość testu_ a na osi Y znajduje się _prawdopodobieństwo, że osoba z pozytywnym wynikiem jest chora_."
   ]
  },
  {
   "cell_type": "code",
   "execution_count": 262,
   "id": "7359c283",
   "metadata": {},
   "outputs": [
    {
     "data": {
      "image/png": "[encoded data removed]",
      "text/plain": [
       "<Figure size 720x360 with 1 Axes>"
      ]
     },
     "metadata": {
      "needs_background": "light"
     },
     "output_type": "display_data"
    }
   ],
   "source": [
    "import matplotlib.pyplot as plt\n",
    "\n",
    "sens = np.linspace(0, 1, 100)\n",
    "prob = probability_formula(sens)\n",
    "fig, ax = plt.subplots(figsize=(10, 5))\n",
    "ax.plot(sens, prob)\n",
    "ax.grid()\n",
    "ax.set_xlabel('Sensitivity')\n",
    "ax.set_ylabel('Probability');"
   ]
  },
  {
   "cell_type": "markdown",
   "id": "2b0253f8",
   "metadata": {},
   "source": [
    "### Zadanie 3\n",
    "\n",
    "Sprawdź (symulacją) jak często trafia się \"ręka\" zawierająca $\\ge 8$ kart w jednym kolorze z 13 kart. Czyli losujemy 13 kart z 52 (wiec \"ręki\" jak w brydzu) tak długo, aż w jakimś kolorze dostaniemy $\\ge 8$ kart. Przeprowadź 1000 takich prob i oblicz średnią. Dodatkowo wypisz jedną (np. ostatnią) taką wylosowaną rękę."
   ]
  },
  {
   "cell_type": "code",
   "execution_count": 263,
   "id": "622ec278",
   "metadata": {},
   "outputs": [
    {
     "name": "stdout",
     "output_type": "stream",
     "text": [
      "Every 191.028 trials\n",
      "['Kier', 'Kier', 'Kier', 'Kier', 'Kier', 'Kier', 'Karo', 'Kier', 'Kier', 'Trefl', 'Pik', 'Karo', 'Karo']\n"
     ]
    }
   ],
   "source": [
    "from random import sample\n",
    "from collections import Counter\n",
    "from itertools import count\n",
    "\n",
    "def take_cards():\n",
    "    cards = [c for c in ['Pik', 'Kier', 'Trefl', 'Karo'] for i in range(13)]\n",
    "    hand = sample(cards, 13)\n",
    "    most_common_count = Counter(hand).most_common(1)[0][-1]\n",
    "    return most_common_count >= 8, hand\n",
    "\n",
    "def get_trials_count():\n",
    "    last_hand = None\n",
    "    for counter in count(1):\n",
    "        success, last_hand = take_cards()\n",
    "        if success:\n",
    "            return counter, last_hand\n",
    "\n",
    "counts = [get_trials_count()[0] for i in range(1000)]\n",
    "mean_trials = np.mean(counts)\n",
    "print(f'Every {mean_trials} trials')\n",
    "print(get_trials_count()[1])"
   ]
  }
 ],
 "metadata": {
  "author": {
   "email": "robert.susik@p.lodz.pl",
   "name": "Robert Susik"
  },
  "kernelspec": {
   "display_name": "Python 3 (ipykernel)",
   "language": "python",
   "name": "python3"
  },
  "language_info": {
   "codemirror_mode": {
    "name": "ipython",
    "version": 3
   },
   "file_extension": ".py",
   "mimetype": "text/x-python",
   "name": "python",
   "nbconvert_exporter": "python",
   "pygments_lexer": "ipython3",
   "version": "3.9.7"
  },
  "toc": {
   "base_numbering": 1,
   "nav_menu": {},
   "number_sections": true,
   "sideBar": true,
   "skip_h1_title": false,
   "title_cell": "Table of Contents",
   "title_sidebar": "Contents",
   "toc_cell": false,
   "toc_position": {},
   "toc_section_display": true,
   "toc_window_display": false
  }
 },
 "nbformat": 4,
 "nbformat_minor": 5
}
