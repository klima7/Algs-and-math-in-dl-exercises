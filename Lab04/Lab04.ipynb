{
 "cells": [
  {
   "cell_type": "markdown",
   "id": "59b5dc28",
   "metadata": {},
   "source": [
    "# Algorytmika i matematyka uczenia maszynowego \n",
    "## Laboratorium 4\n",
    "\n",
    "Do wykonania laboratorium należy skorzystać z bibliotek:\n",
    "- [numpy](https://numpy.org/)\n",
    "- [matplotlib](https://matplotlib.org/)\n",
    "\n",
    "### Zadanie 1\n",
    "\n",
    "Dana jest następująca lista prostokątów:\n",
    "\n",
    "```\n",
    "rectangles = [(\"R1\", 5, 4.5), (\"Szeroki\", 11, 3), (\"R2\", 4, 6), (\"Wąski\", 3, 8), (\"Kwadrat 1\", 5, 5), (\"Kwadrat 2\", 4.5, 4.5)] \n",
    "```\n",
    "\n",
    "gdzie kolejne pola krotek to: \n",
    "- nazwa, \n",
    "- szerokość, \n",
    "- wysokość.\n",
    "\n",
    "#### A) \n",
    "Na jej bazie utwórz ustrukturalizowaną tablicę Numpy (`np.array(...)`), następnie posortuj dane prostokąty rosnąco po polu, a w przypadku równości niech decyduje (alfabetycznie) nazwa prostokąta.\n",
    "\n",
    "#### B) \n",
    "Wypisz posortowaną tablicę, w kolejności pól: \n",
    "1. szerokość, \n",
    "2. wysokość, \n",
    "3. nazwa.\n",
    "\n",
    "> Uwaga: Gdzie to możliwe, działaj na typach i funkcjach z biblioteki Numpy.\n",
    "\n"
   ]
  },
  {
   "cell_type": "code",
   "execution_count": 1,
   "id": "adf73c67",
   "metadata": {
    "tags": []
   },
   "outputs": [
    {
     "name": "stdout",
     "output_type": "stream",
     "text": [
      "Name                 Width      Height    \n",
      "Kwadrat 2            4.5        4.5       \n",
      "R1                   5.0        4.5       \n",
      "R2                   4.0        6.0       \n",
      "Wąski                3.0        8.0       \n",
      "Kwadrat 1            5.0        5.0       \n",
      "Szeroki              11.0       3.0       \n"
     ]
    }
   ],
   "source": [
    "import numpy as np\n",
    "\n",
    "# a)\n",
    "rectangles = [(\"R1\", 5, 4.5), (\"Szeroki\", 11, 3), (\"R2\", 4, 6), (\"Wąski\", 3, 8), (\"Kwadrat 1\", 5, 5), (\"Kwadrat 2\", 4.5, 4.5)] \n",
    "rectangles = np.array(rectangles, dtype=[('name', 'U20'), ('width', np.float_), ('height', np.float_)])\n",
    "\n",
    "sorted_indexes = np.lexsort([rectangles['name'], rectangles['width'] * rectangles['height']])\n",
    "sorted_rectangles = rectangles[sorted_indexes]\n",
    "\n",
    "print(f\"{'Name':<20} {'Width':<10} {'Height':<10}\")\n",
    "for rec in sorted_rectangles:\n",
    "    print(f\"{rec['name']:<20} {rec['width']:<10} {rec['height']:<10}\")"
   ]
  },
  {
   "cell_type": "code",
   "execution_count": 2,
   "id": "49d70c4f-0c3e-4927-bd70-88d09e9df847",
   "metadata": {},
   "outputs": [
    {
     "name": "stdout",
     "output_type": "stream",
     "text": [
      "Name                 Width      Height    \n",
      "Wąski                3.0        8.0       \n",
      "R2                   4.0        6.0       \n",
      "Kwadrat 2            4.5        4.5       \n",
      "R1                   5.0        4.5       \n",
      "Kwadrat 1            5.0        5.0       \n",
      "Szeroki              11.0       3.0       \n"
     ]
    }
   ],
   "source": [
    "# b)\n",
    "sorted_indexes = np.lexsort([rectangles['name'], rectangles['height'], rectangles['width']])\n",
    "sorted_rectangles = rectangles[sorted_indexes]\n",
    "\n",
    "print(f\"{'Name':<20} {'Width':<10} {'Height':<10}\")\n",
    "for rec in sorted_rectangles:\n",
    "    print(f\"{rec['name']:<20} {rec['width']:<10} {rec['height']:<10}\")"
   ]
  },
  {
   "cell_type": "markdown",
   "id": "ca4e7af2",
   "metadata": {},
   "source": [
    "### Zadanie 2 - gra 2048\n",
    "\n",
    "Dana jest kwadratowa plansza o boku `SIZE` (np. 4) dla znanej gry 2048 (https://2048game.com/pl/). \n",
    "Każdy wiersz zawiera od 0 do 4 liczb. Należy, z wykorzystaniem konstrukcji Numpy, zasymulować ruch w lewo, w prawo, w górę i w dół planszy zgodnie z regułami gry (ale **BEZ** dodawania nowego kafelka w losowym miejscu). Innymi słowy, trzeba napisać cztery funkcje: \n",
    "- `move_left(...)`, \n",
    "- `move_right(...)`, \n",
    "- `move_up(...)`, \n",
    "- `move_down(...)`.\n",
    "\n",
    "Przykład ruchu w prawo:\n",
    "\n",
    "Wejściem i wyjściem każdej z obu funkcji jest 2-wymiarowa tablica Numpy.\n",
    "\n",
    "> UWAGA: postaraj się napisać funkcję tylko do jednego ruchu, a pozostałe trzy niech się do niej w sprytny sposób odwołują."
   ]
  },
  {
   "cell_type": "code",
   "execution_count": 5,
   "id": "81391828",
   "metadata": {},
   "outputs": [],
   "source": [
    "import matplotlib.pyplot as plt\n",
    "\n",
    "class Game2048:\n",
    "    \n",
    "    possible_numbers = [2**i for i in range(12)]\n",
    "    \n",
    "    def __init__(self):\n",
    "        self.board = np.array([\n",
    "            [2, 16, 2, 2],\n",
    "            [8, 0, 0, 4],\n",
    "            [2, 0, 0, 2],\n",
    "            [4, 4, 4, 4],\n",
    "        ])\n",
    "        \n",
    "    def move_left(self):\n",
    "        self._move(0)\n",
    "        \n",
    "    def move_right(self):\n",
    "        self._move(2)\n",
    "    \n",
    "    def move_up(self):\n",
    "        self._move(1)\n",
    "    \n",
    "    def move_down(self):\n",
    "        self._move(3)\n",
    "    \n",
    "    def _move(self, k=0):\n",
    "        \"\"\"Move tiles in direction specified by k\"\"\"\n",
    "        board = np.rot90(self.board, k)\n",
    "        for board_row in board:\n",
    "            new_row = []\n",
    "            joined = False\n",
    "\n",
    "            for number in board_row:\n",
    "                if number == 0:\n",
    "                    continue\n",
    "                elif len(new_row) == 0 or new_row[-1] != number or (new_row[-1] == number and joined):\n",
    "                    new_row.append(number)\n",
    "                    joined = False\n",
    "                elif new_row[-1] == number:\n",
    "                    new_row[-1] += number\n",
    "                    joined = True\n",
    "\n",
    "            board_row[:] = 0\n",
    "            board_row[0:len(new_row)] = new_row\n",
    "        self.board = np.rot90(board, -k)\n",
    "    \n",
    "    def display(self, ax, title=''):\n",
    "        ax.matshow(self.board, cmap='Blues')\n",
    "        ax.set_title(title)\n",
    "        ax.set_yticks([])\n",
    "        ax.set_xticks([])\n",
    "        for y in range(self.board.shape[0]):\n",
    "            for x in range(self.board.shape[1]):\n",
    "                ax.text(x, y, self.board[y, x], fontsize='xx-large', c='r', horizontalalignment='center', verticalalignment='center')"
   ]
  },
  {
   "cell_type": "code",
   "execution_count": 4,
   "id": "7834113d-cdb9-4907-9ef1-599017a1889a",
   "metadata": {},
   "outputs": [
    {
     "data": {
      "image/png": "[encoded data removed]",
      "text/plain": [
       "<Figure size 1440x252 with 5 Axes>"
      ]
     },
     "metadata": {},
     "output_type": "display_data"
    }
   ],
   "source": [
    "fig, axs = plt.subplots(1, 5, figsize=(20, 3.5))\n",
    "\n",
    "game = Game2048()\n",
    "game.display(axs[0], 'Initial')\n",
    "\n",
    "game.move_left()\n",
    "game.display(axs[1], 'Move Left')\n",
    "\n",
    "game.move_right()\n",
    "game.display(axs[2], 'Move Right')\n",
    "\n",
    "game.move_up()\n",
    "game.display(axs[3], 'Move Up')\n",
    "\n",
    "game.move_down()\n",
    "game.display(axs[4], 'Move Down')"
   ]
  }
 ],
 "metadata": {
  "author": {
   "email": "robert.susik@p.lodz.pl",
   "name": "Robert Susik"
  },
  "kernelspec": {
   "display_name": "Python 3 (ipykernel)",
   "language": "python",
   "name": "python3"
  },
  "language_info": {
   "codemirror_mode": {
    "name": "ipython",
    "version": 3
   },
   "file_extension": ".py",
   "mimetype": "text/x-python",
   "name": "python",
   "nbconvert_exporter": "python",
   "pygments_lexer": "ipython3",
   "version": "3.9.7"
  },
  "toc": {
   "base_numbering": 1,
   "nav_menu": {},
   "number_sections": true,
   "sideBar": true,
   "skip_h1_title": false,
   "title_cell": "Table of Contents",
   "title_sidebar": "Contents",
   "toc_cell": false,
   "toc_position": {},
   "toc_section_display": true,
   "toc_window_display": false
  }
 },
 "nbformat": 4,
 "nbformat_minor": 5
}
