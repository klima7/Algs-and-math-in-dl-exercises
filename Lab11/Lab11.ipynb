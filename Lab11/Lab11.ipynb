{
 "cells": [
  {
   "cell_type": "markdown",
   "id": "1d685a9d",
   "metadata": {},
   "source": [
    "# Algorytmika i matematyka uczenia maszynowego \n",
    "## Laboratorium 11 - macierz odwrotna i wyznacznik macierzy\n",
    "\n",
    "\n",
    "### Zadanie 1 - szyfr Hilla\n",
    "\n",
    "Zaimplementuj dwie funkcje do kodowania i dekodowania wiadomości za pomocą szyfru [Hilla](https://pl.wikipedia.org/wiki/Szyfr_Hilla):\n",
    "* `encrypt(t, K)` - szyfruje tekst $t$ za pomocą klucza (macierzy) $K$.\n",
    "* `decrypt(s, K)` - deszyfruje kod $s$ za pomocą klucza (macierzy) $K$.\n",
    "\n",
    "#### Kodowanie\n",
    "\n",
    "W systemie kodowania ASCII litery A - Z zapisane są jako liczby z zakresu 65 - 90. Aby zaszyfrować tekst za pomocą klucza $K$ (macierz o wymiarach $m$ x $m$), należy zapisać znaki tekstu w postaci macierzy o wymiarach $m$ x $n$, a następnie wykonać następujące operacje:\n",
    "\n",
    "1. Utworzyć macierz szyfrującą $K$, której wyznacznik wynosi $det(K) = 1$.\n",
    "> Uwaga: jest to odstępstwo od oryginalnego algorytmu mające na celu uproszczenie przykładu.\n",
    "> Macierz taką można utworzyć z macierzy jednostkowej (`np.identity`), korzystając z operacji elementarnych np. dodając do jednego wiersza macierzy inny wiersz pomnożony przez skalar.\n",
    "1. Zamienić litery tekstu $t$ o długości $h$ na wektor liczb.\n",
    "1. Dopełnić (_padding_) zerami, aby można było wykonać kolejny krok.\n",
    "1. Przekształcić na macierz $X$ o wymiarach ($m$ x $n$), gdzie $n = \\lceil \\frac{h}{m} \\rceil$ (możesz użyć funkcji `reshape`).\n",
    "1. Wykonać operację $S = (KX)$.\n",
    "1. Skonwertować macierz $S$ na wektor (możesz użyć funkcji `flatten`) i zwrócić szyfrogram $s$ (zaszyfrowany tekst).\n",
    "\n",
    "\n",
    "> Uwaga 1: Przedstawiony algorytm jest uproszczonym algorytmem, posiadającym ograniczenie $det(K)=1$, które można pominąć, ale wtedy należy do macierzy kodującej wyznaczyć macierz odwrotną modulo 26 (liczba znaków A-Z, ale może być dowolna inna). Podobnie, należy macierz $S$ zamienić na modulo 26. **Istotne**: W tym przypadku należy pamiętać, że wyznacznik macierzy szyfrującej $det(K)$ nie może posiadać wspólnego dzielnika z liczbą 26 (czyli obie liczby muszą być względnie pierwsze). Dlaczego? Bo w przeciwnym wypadku nie istnieje liczba odwrotna do $det(K) \\textit{ mod } 26$.\n",
    "\n",
    "> Uwaga 2: ciąg $s$ może zawierać niedrukowalne znaki. Jeżeli chcesz tego uniknąć możesz np. zmapować znaki (65-90) do zakresu 0-25. Następnie przy wyświetlaniu przeprowadzić operację w drugą stronę.\n",
    "\n",
    "\n",
    "#### Dekodowanie\n",
    "\n",
    "Aby rozszyfrować zaszyfrowaną wiadomość $s$, należy:\n",
    "\n",
    "1. Zamienić ciąg $s$ na macierz $S$.\n",
    "1. Obliczyć macierz odwrotną $K^{-1}$ (funkcja `np.linalg.inv`).\n",
    "1. Rozszyfrować wiadomość wykonując operację $W = K^{-1} S$.\n",
    "1. Skonwertować wiadomość $W$ na ciąg tekstowy $w$.\n",
    "\n",
    "\n",
    "**Uwaga**: Jest to tylko laboratoryjny przykład na zastosowanie operacji macierzowych. Przedstawione rozwiązanie nie jest bezpieczne."
   ]
  },
  {
   "cell_type": "code",
   "execution_count": 94,
   "id": "e0ce8dcc-2d2c-4fec-aa3c-27166af2d62c",
   "metadata": {},
   "outputs": [
    {
     "name": "stdout",
     "output_type": "stream",
     "text": [
      "1.0\n"
     ]
    }
   ],
   "source": [
    "import numpy as np\n",
    "import sympy\n",
    "\n",
    "K = np.array([\n",
    "    [1, 1, 0],\n",
    "    [1, 2, 1],\n",
    "    [1, 1, 1],\n",
    "])\n",
    "\n",
    "print(np.linalg.det(K))\n",
    "\n",
    "text = \"Ala ma kota\""
   ]
  },
  {
   "cell_type": "code",
   "execution_count": 95,
   "id": "56603989",
   "metadata": {},
   "outputs": [],
   "source": [
    "def encrypt(t, K):\n",
    "    m = K.shape[0]\n",
    "    v = [ord(c) for c in t] + [0] * (3 - len(t) % m)\n",
    "    n = len(v) // m\n",
    "    X = np.array(v).reshape(m, n)\n",
    "    S = K@X\n",
    "    s = S.flatten()\n",
    "    return s\n",
    "\n",
    "def decrypt(s, K):\n",
    "    m = K.shape[0]\n",
    "    S = s.reshape(m, -1)\n",
    "    Kinv = np.linalg.inv(K)\n",
    "    W = Kinv@S\n",
    "    t = [chr(int(o)) for o in W.flatten()]\n",
    "    t = ''.join(t).rstrip('\\x00')\n",
    "    return t"
   ]
  },
  {
   "cell_type": "code",
   "execution_count": 96,
   "id": "5be98fe4-4b32-4e82-8b2e-0ed7b767acaa",
   "metadata": {},
   "outputs": [
    {
     "name": "stdin",
     "output_type": "stream",
     "text": [
      "Podaj tekst Lorem Ipsum\n"
     ]
    },
    {
     "name": "stdout",
     "output_type": "stream",
     "text": [
      "Zakodowany tekst: [185 143 187 213 409 292 369 325 300 260 296 213]\n",
      "Odkodowany tekst: Lorem Ipsum\n"
     ]
    },
    {
     "name": "stdin",
     "output_type": "stream",
     "text": [
      "Podaj tekst Bla bla bla\n"
     ]
    },
    {
     "name": "stdout",
     "output_type": "stream",
     "text": [
      "Zakodowany tekst: [164 216 194  64 360 432 388  96 262 324 291  64]\n",
      "Odkodowany tekst: Bla bla bla\n"
     ]
    },
    {
     "name": "stdin",
     "output_type": "stream",
     "text": [
      "Podaj tekst \n"
     ]
    },
    {
     "name": "stdout",
     "output_type": "stream",
     "text": [
      "Zakończono\n"
     ]
    }
   ],
   "source": [
    "while True:\n",
    "    t = input('Podaj tekst')\n",
    "    if len(t) == 0:\n",
    "        print('Zakończono')\n",
    "        break\n",
    "    s = encrypt(t, K)\n",
    "    print(f'Zakodowany tekst: {s}')\n",
    "    t2 = decrypt(s, K)\n",
    "    print(f'Odkodowany tekst: {t2}')"
   ]
  },
  {
   "cell_type": "markdown",
   "id": "08744169",
   "metadata": {},
   "source": [
    "### Zadanie 2\n",
    "\n",
    "Zaimplementować funkcję, która przyjmuje macierz kwadratową jako argument i zwraca jej wyznacznik obliczony zgodnie ze wzorem [Leibniza](https://en.wikipedia.org/wiki/Leibniz_formula_for_determinants) (_definicja permutacyjna_) i porównaj z wynikiem gotowej funkcji z biblioteki numpy `np.linalg.det`.\n",
    "\n",
    "$$\n",
    "\\text{det}(A) = \\sum_{\\sigma \\in S_n}\\left(\\text{sgn}(\\sigma)\\prod_{i=0}^{n-1}a_{i, \\sigma(i)}\\right)\n",
    "$$\n",
    "\n",
    ", gdzie:\n",
    "\n",
    "* $S_n$ - [grupa permutacji](https://en.wikipedia.org/wiki/Symmetric_group) (dla macierzy 3x3 będą to permutacje ze zbioru {0, 1, 2})\n",
    "* $\\text{sgn}$ - jest to symbol \"+\", \"-\" w zależny od [parzystości permutacji](https://en.wikipedia.org/wiki/Parity_of_a_permutation). Np. dla permutacji `[1, 2, 0]` będzie to \"+\" (trzeba wykonać dwie operacje - zamienić `0` z `1` a później `0` z `2`, a dla permutacji `[0, 2, 1]` będzie \"-\" ponieważ wystarczy jedna operacja (zamiana `1` z `2`).\n",
    "* $\\sigma$ - permutacja (element z grupy permutacji $S_n$)\n",
    "\n",
    "##### Przykład dla macierzy 3x3\n",
    "\n",
    "| $\\sigma$ | $\\text{sgn}$ | $\\text{sgn}(\\sigma)\\prod_{i=0}^{n-1}a_{i, \\sigma(i)}$ |\n",
    "| :---     | :---         | ---: |\n",
    "| 1, 2, 3  | +            | $+a_{1,1}a_{2,2}a_{3,3}$ |\n",
    "| 1, 3, 2  | -            | $-a_{1,1}a_{2,3}a_{3,2}$ |\n",
    "| 3, 1, 2  | +            | $+a_{1,3}a_{2,1}a_{3,2}$ |\n",
    "| 3, 2, 1  | -            | $-a_{1,3}a_{2,2}a_{3,1}$ |\n",
    "| 2, 3, 1  | +            | $+a_{1,2}a_{2,3}a_{3,1}$ |\n",
    "| 2, 1, 3  | -            | $-a_{1,2}a_{2,1}a_{3,3}$ |\n",
    "\n",
    "$\\text{det}(A) = a_{1,1}a_{2,2}a_{3,3} - a_{1,1}a_{2,3}a_{3,2} + a_{1,3}a_{2,1}a_{3,2} - a_{1,3}a_{2,2}a_{3,1} + a_{1,2}a_{2,3}a_{3,1} - a_{1,2}a_{2,1}a_{3,3}$\n",
    "\n",
    "> Uwaga 1: Aby sprawdzić parzystość permutacji możesz użyć funkcji `parity` z biblioteki [`sympy`](https://docs.sympy.org/latest/modules/combinatorics/permutations.html#sympy.combinatorics.permutations.Permutation.parity). Przykład: \n",
    "    ```from sympy.combinatorics import Permutation\n",
    "Permutation([0, 2, 1]).parity()\n",
    "    ```\n",
    "    \n",
    "> Uwaga 2: W celu wygenerowania permutacji możesz użyć funkcji `permutations` z modułu [`itertools`](https://docs.python.org/3/library/itertools.html#itertools.permutations)\n",
    "\n",
    "> Uwaga 3: Pamiętaj, że w numpy porównywanie liczb zmiennoprzecinkowych wykonuje się za pomocą funkcji [`allclose`](https://numpy.org/doc/stable/reference/generated/numpy.allclose.html)"
   ]
  },
  {
   "cell_type": "code",
   "execution_count": 37,
   "id": "65ad8056",
   "metadata": {},
   "outputs": [],
   "source": [
    "from itertools import permutations\n",
    "from sympy.combinatorics import Permutation\n",
    "\n",
    "def det(m):\n",
    "    size = m.shape[0]\n",
    "    sum_ = 0\n",
    "    perms = permutations(range(size))\n",
    "    for perm in perms:\n",
    "        parity = Permutation(perm).parity()\n",
    "        product = 1 if parity == 0 else -1\n",
    "        for row, index in enumerate(perm):\n",
    "            product *= m[row][index]\n",
    "        sum_ += product\n",
    "    return sum_          "
   ]
  },
  {
   "cell_type": "code",
   "execution_count": 93,
   "id": "5a393224-5237-43d8-af8e-cef862738e5b",
   "metadata": {},
   "outputs": [
    {
     "name": "stdout",
     "output_type": "stream",
     "text": [
      "0.175111456597682 0.17511145659768199\n",
      "True\n"
     ]
    }
   ],
   "source": [
    "a = np.random.rand(3, 3)\n",
    "d1 = det(a)\n",
    "d2 = np.linalg.det(a)\n",
    "print(d1, d2)\n",
    "print(np.allclose(d1, d2))"
   ]
  }
 ],
 "metadata": {
  "author": {
   "email": "robert.susik@p.lodz.pl",
   "name": "Robert Susik"
  },
  "kernelspec": {
   "display_name": "Python 3 (ipykernel)",
   "language": "python",
   "name": "python3"
  },
  "language_info": {
   "codemirror_mode": {
    "name": "ipython",
    "version": 3
   },
   "file_extension": ".py",
   "mimetype": "text/x-python",
   "name": "python",
   "nbconvert_exporter": "python",
   "pygments_lexer": "ipython3",
   "version": "3.9.7"
  },
  "toc": {
   "base_numbering": 1,
   "nav_menu": {},
   "number_sections": true,
   "sideBar": true,
   "skip_h1_title": false,
   "title_cell": "Table of Contents",
   "title_sidebar": "Contents",
   "toc_cell": false,
   "toc_position": {},
   "toc_section_display": true,
   "toc_window_display": false
  }
 },
 "nbformat": 4,
 "nbformat_minor": 5
}
