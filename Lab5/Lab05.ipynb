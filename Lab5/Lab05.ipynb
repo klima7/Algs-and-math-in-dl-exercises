{
 "cells": [
  {
   "cell_type": "markdown",
   "id": "59b5dc28",
   "metadata": {},
   "source": [
    "# Algorytmika i matematyka uczenia maszynowego \n",
    "## Laboratorium 5\n",
    "\n",
    "Do wykonania laboratorium można skorzystać z bibliotek/modułów:\n",
    "- [numpy](https://numpy.org/)\n",
    "- [matplotlib](https://matplotlib.org/)\n",
    "- [pandas](https://pandas.pydata.org/)\n",
    "- [collections](https://docs.python.org/3/library/collections.html)\n"
   ]
  },
  {
   "cell_type": "markdown",
   "id": "ca4e7af2",
   "metadata": {},
   "source": [
    "### Zadanie 1\n",
    "\n",
    "Wczytaj plik `english.10MB`\n",
    "> Podpowiedź: Kodowanie `iso-8859-1`\n",
    "\n"
   ]
  },
  {
   "cell_type": "code",
   "execution_count": 2,
   "id": "967f6b63",
   "metadata": {},
   "outputs": [],
   "source": [
    "with open('english.10MB', encoding='iso-8859-1') as f:\n",
    "    text = f.readlines()\n",
    "    text = ''.join(text)"
   ]
  },
  {
   "cell_type": "markdown",
   "id": "8d2a3a0d",
   "metadata": {},
   "source": [
    "### Zadanie 2\n",
    "Zamień wszystkie litery na małe.\n"
   ]
  },
  {
   "cell_type": "code",
   "execution_count": 3,
   "id": "5d879322",
   "metadata": {},
   "outputs": [],
   "source": [
    "text = text.lower()"
   ]
  },
  {
   "cell_type": "markdown",
   "id": "cf5a110e",
   "metadata": {},
   "source": [
    "### Zadanie 3\n",
    "Znajdź unikalne litery (pomiń inne znaki) w tekście i dla każdej przypisz liczbę wystąpień, a następnie wyświetl histogram.\n",
    "\n",
    "Pytanie: Jaka litera występuje najczęściej?\n",
    "\n",
    "> Podpowiedź: `import string`\n"
   ]
  },
  {
   "cell_type": "code",
   "execution_count": 4,
   "id": "fa392fb1",
   "metadata": {},
   "outputs": [
    {
     "data": {
      "image/png": "[encoded data removed]",
      "text/plain": [
       "<Figure size 432x288 with 1 Axes>"
      ]
     },
     "metadata": {
      "needs_background": "light"
     },
     "output_type": "display_data"
    }
   ],
   "source": [
    "import numpy as np\n",
    "from string import ascii_letters\n",
    "import matplotlib.pyplot as plt\n",
    "from collections import Counter\n",
    "\n",
    "c = Counter(text)\n",
    "chars_occurance = c.most_common()\n",
    "letters_occurance = [occ for occ in chars_occurance if occ[0] in ascii_letters]\n",
    "letters_occurance = sorted(letters_occurance, key=lambda x: x[0])\n",
    "\n",
    "fig, ax = plt.subplots()\n",
    "ax.bar([occ[0] for occ in letters_occurance], [occ[1] for occ in letters_occurance]);"
   ]
  },
  {
   "cell_type": "markdown",
   "id": "5e248f98",
   "metadata": {},
   "source": [
    "### Zadanie 4\n",
    "\n",
    "Napisz funkcję, która dla podanego prefiksu (ciąg liter, np. `th` to prefiks o długości 2) zwróci listę maksymalnie pięciu liter, które mają największe prawdopodobieństwo wystąpienia po nim.\n",
    "\n",
    "```python\n",
    "In : nast('th', s) # th - prefiks, s - tekst\n",
    "Out: ['e', 'a', 'i', 'o', 'y']\n",
    "```\n",
    "\n"
   ]
  },
  {
   "cell_type": "code",
   "execution_count": 5,
   "id": "304c9e59",
   "metadata": {},
   "outputs": [
    {
     "data": {
      "text/plain": [
       "['e', 'a', 'i', 'o', 'y']"
      ]
     },
     "execution_count": 5,
     "metadata": {},
     "output_type": "execute_result"
    }
   ],
   "source": [
    "import re\n",
    "from collections import Counter\n",
    "\n",
    "def get_probable_letters(prefix):\n",
    "    matches = re.findall(prefix+r'(.)', text)\n",
    "    occs = Counter(matches)\n",
    "    common_letters = [occ[0] for occ in occs.most_common() if occ[0] in ascii_letters]\n",
    "    return common_letters[:5]\n",
    "\n",
    "get_probable_letters('th')"
   ]
  },
  {
   "cell_type": "markdown",
   "id": "c2a193ff",
   "metadata": {},
   "source": [
    "### Zadanie 5\n",
    "\n",
    "Napisz kod, który wczytuje kolejne znaki od użytkownika i podpowiada następne możliwe litery (maksymalnie pięć). Wykorzystaj funkcję zaimplementowaną w poprzednim zadaniu.\n",
    "\n",
    "> Podpowiedź: Możesz wykorzystać funkcję `input()` do wczytywania znaków.\n",
    "\n",
    "Przykład działania:\n",
    "```\n",
    "Nacisnij <ENTER> aby zakonczyc.\n",
    "Podaj litere: f\n",
    "Podaj kolejną literę (możliwe: ['o', 'a', 'r', 'e', 'i']): fo\n",
    "Podaj kolejną literę (możliwe: ['r', 'u', 'l', 'o', 'x']): for\n",
    "Podaj kolejną literę (możliwe: ['e', 't', 'm', 'g', 'c']): fore\n",
    "Podaj kolejną literę (możliwe: ['s', 'h', 'i', 'g', 'v']): fores\n",
    "Podaj kolejną literę (możliwe: ['t', 'a', 'e', 'i', 'k']): forest\n",
    "Podaj kolejną literę (możliwe: ['s', 'a']): forests\n",
    "```"
   ]
  },
  {
   "cell_type": "code",
   "execution_count": 6,
   "id": "3d6e24d2",
   "metadata": {},
   "outputs": [
    {
     "data": {
      "application/vnd.jupyter.widget-view+json": {
       "model_id": "5d80e3dc961b46b59a9d698150cae0db",
       "version_major": 2,
       "version_minor": 0
      },
      "text/plain": [
       "VBox(children=(Text(value='', description='String:', placeholder='Type something'), HTML(value='', description…"
      ]
     },
     "metadata": {},
     "output_type": "display_data"
    }
   ],
   "source": [
    "import ipywidgets as widgets\n",
    "\n",
    "input_ = widgets.Text(\n",
    "    value='',\n",
    "    placeholder='Type something',\n",
    "    description='String:',\n",
    "    disabled=False\n",
    ")\n",
    "\n",
    "output = widgets.HTML(\n",
    "    value='',\n",
    "    placeholder='Type something...',\n",
    "    description='Output:',\n",
    ")\n",
    "\n",
    "def update_output(e):\n",
    "    text = input_.value\n",
    "    if len(text) == 0:\n",
    "        output.value = ''\n",
    "        return\n",
    "    letters = get_probable_letters(text)\n",
    "    output.value = str(get_probable_letters(text))\n",
    "\n",
    "layout = widgets.VBox([input_, output])\n",
    "input_.observe(update_output, names='value')\n",
    "display(layout)"
   ]
  },
  {
   "cell_type": "markdown",
   "id": "18515c1d",
   "metadata": {},
   "source": [
    "### Zadanie 6\n",
    "\n",
    "Wykonaj zadanie podobne do zad. 6, ale na poziomie słów. Dla ułatwienia słowa można wybierać z listy za pomocą liczb 1-5."
   ]
  },
  {
   "cell_type": "code",
   "execution_count": 6,
   "id": "23721a08-0dd9-473f-b447-19cf56e83390",
   "metadata": {},
   "outputs": [],
   "source": [
    "def get_probable_words(word):\n",
    "    matches = re.findall(word + r'\\s(\\w+)', text)\n",
    "    occs = Counter(matches)\n",
    "    common_words = [occ[0] for occ in occs.most_common()]\n",
    "    return common_words[:5]"
   ]
  },
  {
   "cell_type": "code",
   "execution_count": 9,
   "id": "573b79d6-1fe3-4d2f-a789-36dd48f97357",
   "metadata": {},
   "outputs": [
    {
     "name": "stdout",
     "output_type": "stream",
     "text": [
      "Naciśnij enter aby zakończyć\n"
     ]
    },
    {
     "name": "stdin",
     "output_type": "stream",
     "text": [
      "Podaj słowo: magic\n"
     ]
    },
    {
     "name": "stdout",
     "output_type": "stream",
     "text": [
      "Możliwe kontynuacje dla magic: ['and', 'of', 'might', 'glow', 'spell']\n"
     ]
    },
    {
     "name": "stdin",
     "output_type": "stream",
     "text": [
      "Podaj słowo: and\n"
     ]
    },
    {
     "name": "stdout",
     "output_type": "stream",
     "text": [
      "Możliwe kontynuacje dla and: ['the', 'he', 'said', 'i', 'she']\n"
     ]
    },
    {
     "name": "stdin",
     "output_type": "stream",
     "text": [
      "Podaj słowo: 1\n"
     ]
    },
    {
     "name": "stdout",
     "output_type": "stream",
     "text": [
      "Możliwe kontynuacje dla the: ['king', 'caliph', 'dawn', 'old', 'wazir']\n"
     ]
    },
    {
     "name": "stdin",
     "output_type": "stream",
     "text": [
      "Podaj słowo: \n"
     ]
    },
    {
     "name": "stdout",
     "output_type": "stream",
     "text": [
      "Zakończono\n"
     ]
    }
   ],
   "source": [
    "print('Naciśnij enter aby zakończyć')\n",
    "\n",
    "words = []\n",
    "\n",
    "while True:\n",
    "    \n",
    "    # Get input\n",
    "    input_ = input('Podaj słowo:')\n",
    "    \n",
    "    # Stop condition\n",
    "    if len(input_) == 0:\n",
    "        break\n",
    "    \n",
    "    # Convert input to word index if possible\n",
    "    try:\n",
    "        index = int(input_)-1\n",
    "        if not 0 <= index < len(words):\n",
    "            print('Nieprawidłowy numer słowa')\n",
    "            continue\n",
    "        input_ = words[index]\n",
    "    except ValueError:\n",
    "        pass\n",
    "    \n",
    "    # Show possible continuations\n",
    "    words = get_probable_words(input_)\n",
    "    print(f'Możliwe kontynuacje dla {input_}: {words}')\n",
    "\n",
    "print('Zakończono')"
   ]
  }
 ],
 "metadata": {
  "author": {
   "email": "robert.susik@p.lodz.pl",
   "name": "Robert Susik"
  },
  "kernelspec": {
   "display_name": "Python 3 (ipykernel)",
   "language": "python",
   "name": "python3"
  },
  "language_info": {
   "codemirror_mode": {
    "name": "ipython",
    "version": 3
   },
   "file_extension": ".py",
   "mimetype": "text/x-python",
   "name": "python",
   "nbconvert_exporter": "python",
   "pygments_lexer": "ipython3",
   "version": "3.9.7"
  },
  "toc": {
   "base_numbering": 1,
   "nav_menu": {},
   "number_sections": true,
   "sideBar": true,
   "skip_h1_title": false,
   "title_cell": "Table of Contents",
   "title_sidebar": "Contents",
   "toc_cell": false,
   "toc_position": {},
   "toc_section_display": true,
   "toc_window_display": false
  }
 },
 "nbformat": 4,
 "nbformat_minor": 5
}
